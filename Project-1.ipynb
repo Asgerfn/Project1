{
 "cells": [
  {
   "cell_type": "markdown",
   "id": "75e947cd-0c69-4b21-b061-29df12c2c798",
   "metadata": {},
   "source": [
    "# Project 1"
   ]
  },
  {
   "cell_type": "code",
   "execution_count": 15,
   "id": "fe938af9-c84d-44b1-8fc9-aa7c854aa485",
   "metadata": {},
   "outputs": [],
   "source": [
    "import pandas as pd \n",
    "import numpy as np\n",
    "import seaborn as sns\n",
    "from numpy import linalg as la\n",
    "from io import StringIO\n",
    "from tabulate import tabulate\n",
    "from matplotlib import pyplot as plt\n",
    "import LinearModelsWeek2_ante as lm\n"
   ]
  },
  {
   "cell_type": "code",
   "execution_count": 16,
   "id": "c291ef86-8d48-4f0b-b10e-25d61d1e1a3c",
   "metadata": {},
   "outputs": [
    {
     "name": "stdout",
     "output_type": "stream",
     "text": [
      "      firmid  year      lcap      lemp      ldsa\n",
      "0          1  1968  0.998602 -0.242185  0.349053\n",
      "1          1  1969  0.925214 -0.241278  0.312492\n",
      "2          1  1970  0.879616 -0.265134  0.347566\n",
      "12         2  1968 -0.069588 -0.323021 -0.945831\n",
      "13         2  1969 -0.056724 -0.358177 -1.143830\n",
      "...      ...   ...       ...       ...       ...\n",
      "5269     440  1969 -0.228757  0.031242 -0.246864\n",
      "5270     440  1970 -0.038354  0.062158 -0.345710\n",
      "5280     441  1968 -1.618390 -1.944210 -2.032340\n",
      "5281     441  1969 -1.635030 -1.856580 -2.011210\n",
      "5282     441  1970 -1.454890 -1.538940 -1.371550\n",
      "\n",
      "[1323 rows x 5 columns]\n"
     ]
    }
   ],
   "source": [
    "# Load data\n",
    "dat = pd.read_csv('firms.csv')\n",
    "desired_years = [1968, 1969, 1970]\n",
    "mask = dat['year'].isin(desired_years)\n",
    "\n",
    "# Use the mask to filter the DataFrame\n",
    "filtered_df = dat[mask]\n",
    "\n",
    "#print(filtered_df)\n",
    "#Check time period\n",
    "filtered_df.year.unique()\n",
    "print(filtered_df)\n",
    "\n"
   ]
  },
  {
   "cell_type": "code",
   "execution_count": 17,
   "id": "5749472e",
   "metadata": {},
   "outputs": [
    {
     "name": "stdout",
     "output_type": "stream",
     "text": [
      "Demeaning matrix for T=3 \n",
      " [[ 0.66666667 -0.33333333 -0.33333333]\n",
      " [-0.33333333  0.66666667 -0.33333333]\n",
      " [-0.33333333 -0.33333333  0.66666667]]\n"
     ]
    }
   ],
   "source": [
    "def demeaning_matrix(T):\n",
    "    Q_T = np.identity(T) - (1/T) * np.ones((T,T))\n",
    "    return Q_T\n",
    "\n",
    "# Print the matrix\n",
    "T = 3\n",
    "Q_T = demeaning_matrix(T)\n",
    "print(f'Demeaning matrix for T={T} \\n', Q_T)"
   ]
  },
  {
   "cell_type": "code",
   "execution_count": null,
   "metadata": {},
   "outputs": [],
   "source": []
  },
  {
   "cell_type": "code",
   "execution_count": 92,
   "id": "129bf8da",
   "metadata": {},
   "outputs": [
    {
     "name": "stdout",
     "output_type": "stream",
     "text": [
      "xi:\n",
      "(1323, 4)\n",
      "y:\n",
      "(1323, 1)\n"
     ]
    }
   ],
   "source": [
    "y = filtered_df.ldsa.values\n",
    "xi = []\n",
    "ID = 0\n",
    "\n",
    "\n",
    "for i in range(len(filtered_df)):\n",
    "        if i%3 == 0: \n",
    "            yr = 1\n",
    "        elif i%3 == 2:\n",
    "            yr = 3\n",
    "        else: \n",
    "            yr = 2\n",
    "        if i%3 == 0: \n",
    "            ID = ID+1\n",
    "       \n",
    "        row = [ID, yr, filtered_df.lemp.values[i], filtered_df.lcap.values[i]]\n",
    "        xi.append(row)\n",
    "\n",
    "# Create a NumPy array from the list of rows for xi\n",
    "xi = np.array(xi)\n",
    "\n",
    "# Print the resulting NumPy arrays\n",
    "print(\"xi:\")\n",
    "print(xi.shape)\n",
    "print(\"y:\")\n",
    "yi = y.reshape(-1,1)\n",
    "print(yi.shape)\n",
    "\n",
    "#This code should work correctly with ldsa as the target variable, and it creates the xi NumPy array as described in your previous question.\n",
    "\n",
    "\n",
    "\n",
    "\n",
    "\n",
    "\n",
    "#print(y.T)"
   ]
  },
  {
   "cell_type": "code",
   "execution_count": 94,
   "id": "6aae0e86",
   "metadata": {},
   "outputs": [
    {
     "name": "stdout",
     "output_type": "stream",
     "text": [
      "[[ 1.11022302e-16 -1.00000000e+00  7.34733333e-03  6.41244000e-02]\n",
      " [ 1.11022302e-16  2.77555756e-16  8.25433333e-03 -9.26340000e-03]\n",
      " [ 1.11022302e-16  1.00000000e+00 -1.56016667e-02 -5.48610000e-02]\n",
      " ...\n",
      " [ 6.50035581e-14 -1.00000000e+00 -1.64300000e-01 -4.89533333e-02]\n",
      " [ 3.65818487e-14  2.77555756e-16 -7.66700000e-02 -6.55933333e-02]\n",
      " [ 3.26405569e-14  1.00000000e+00  2.40970000e-01  1.14546667e-01]]\n",
      "[[ 0.0126826 ]\n",
      " [-0.0238781 ]\n",
      " [ 0.0111955 ]\n",
      " ...\n",
      " [-0.22730667]\n",
      " [-0.20617667]\n",
      " [ 0.43348333]]\n"
     ]
    }
   ],
   "source": [
    "y_demean = lm.perm(Q_T,yi,t=T) # Why does it not work?\n",
    "x_demean = lm.perm(Q_T,xi,t=T)\n",
    "\n",
    "#print x_demean\n",
    "print(x_demean)\n",
    "print(y_demean)"
   ]
  },
  {
   "cell_type": "code",
   "execution_count": 95,
   "id": "6938c17f",
   "metadata": {},
   "outputs": [
    {
     "name": "stdout",
     "output_type": "stream",
     "text": [
      "Rank of demeaned x: 3\n",
      "Eigenvalues of within-transformed x: [  0. 882.   9.   5.]\n"
     ]
    }
   ],
   "source": [
    "def check_rank(x):\n",
    "    print(f'Rank of demeaned x: {la.matrix_rank(x)}')\n",
    "    lambdas, V = la.eig(x.T@x)\n",
    "    np.set_printoptions(suppress=True)  # This is just to print nicely.\n",
    "    print(f'Eigenvalues of within-transformed x: {lambdas.round(decimals=0)}')\n",
    "\n",
    "# Check rank of demeaned x\n",
    "check_rank(x_demean)"
   ]
  },
  {
   "cell_type": "code",
   "execution_count": 96,
   "id": "ad9db77e",
   "metadata": {},
   "outputs": [
    {
     "data": {
      "text/html": [
       "<div>\n",
       "<style scoped>\n",
       "    .dataframe tbody tr th:only-of-type {\n",
       "        vertical-align: middle;\n",
       "    }\n",
       "\n",
       "    .dataframe tbody tr th {\n",
       "        vertical-align: top;\n",
       "    }\n",
       "\n",
       "    .dataframe thead th {\n",
       "        text-align: right;\n",
       "    }\n",
       "</style>\n",
       "<table border=\"1\" class=\"dataframe\">\n",
       "  <thead>\n",
       "    <tr style=\"text-align: right;\">\n",
       "      <th></th>\n",
       "      <th>0</th>\n",
       "      <th>1</th>\n",
       "      <th>2</th>\n",
       "      <th>3</th>\n",
       "    </tr>\n",
       "  </thead>\n",
       "  <tbody>\n",
       "    <tr>\n",
       "      <th>0</th>\n",
       "      <td>1.110223e-16</td>\n",
       "      <td>-1.000000e+00</td>\n",
       "      <td>0.007347</td>\n",
       "      <td>0.064124</td>\n",
       "    </tr>\n",
       "    <tr>\n",
       "      <th>1</th>\n",
       "      <td>1.110223e-16</td>\n",
       "      <td>2.775558e-16</td>\n",
       "      <td>0.008254</td>\n",
       "      <td>-0.009263</td>\n",
       "    </tr>\n",
       "    <tr>\n",
       "      <th>2</th>\n",
       "      <td>1.110223e-16</td>\n",
       "      <td>1.000000e+00</td>\n",
       "      <td>-0.015602</td>\n",
       "      <td>-0.054861</td>\n",
       "    </tr>\n",
       "    <tr>\n",
       "      <th>3</th>\n",
       "      <td>2.220446e-16</td>\n",
       "      <td>-1.000000e+00</td>\n",
       "      <td>0.039549</td>\n",
       "      <td>-0.016591</td>\n",
       "    </tr>\n",
       "    <tr>\n",
       "      <th>4</th>\n",
       "      <td>2.220446e-16</td>\n",
       "      <td>2.775558e-16</td>\n",
       "      <td>0.004393</td>\n",
       "      <td>-0.003726</td>\n",
       "    </tr>\n",
       "    <tr>\n",
       "      <th>...</th>\n",
       "      <td>...</td>\n",
       "      <td>...</td>\n",
       "      <td>...</td>\n",
       "      <td>...</td>\n",
       "    </tr>\n",
       "    <tr>\n",
       "      <th>1318</th>\n",
       "      <td>5.551115e-14</td>\n",
       "      <td>2.775558e-16</td>\n",
       "      <td>-0.022075</td>\n",
       "      <td>-0.053239</td>\n",
       "    </tr>\n",
       "    <tr>\n",
       "      <th>1319</th>\n",
       "      <td>5.151435e-14</td>\n",
       "      <td>1.000000e+00</td>\n",
       "      <td>0.008840</td>\n",
       "      <td>0.137164</td>\n",
       "    </tr>\n",
       "    <tr>\n",
       "      <th>1320</th>\n",
       "      <td>6.500356e-14</td>\n",
       "      <td>-1.000000e+00</td>\n",
       "      <td>-0.164300</td>\n",
       "      <td>-0.048953</td>\n",
       "    </tr>\n",
       "    <tr>\n",
       "      <th>1321</th>\n",
       "      <td>3.658185e-14</td>\n",
       "      <td>2.775558e-16</td>\n",
       "      <td>-0.076670</td>\n",
       "      <td>-0.065593</td>\n",
       "    </tr>\n",
       "    <tr>\n",
       "      <th>1322</th>\n",
       "      <td>3.264056e-14</td>\n",
       "      <td>1.000000e+00</td>\n",
       "      <td>0.240970</td>\n",
       "      <td>0.114547</td>\n",
       "    </tr>\n",
       "  </tbody>\n",
       "</table>\n",
       "<p>1323 rows × 4 columns</p>\n",
       "</div>"
      ],
      "text/plain": [
       "                 0             1         2         3\n",
       "0     1.110223e-16 -1.000000e+00  0.007347  0.064124\n",
       "1     1.110223e-16  2.775558e-16  0.008254 -0.009263\n",
       "2     1.110223e-16  1.000000e+00 -0.015602 -0.054861\n",
       "3     2.220446e-16 -1.000000e+00  0.039549 -0.016591\n",
       "4     2.220446e-16  2.775558e-16  0.004393 -0.003726\n",
       "...            ...           ...       ...       ...\n",
       "1318  5.551115e-14  2.775558e-16 -0.022075 -0.053239\n",
       "1319  5.151435e-14  1.000000e+00  0.008840  0.137164\n",
       "1320  6.500356e-14 -1.000000e+00 -0.164300 -0.048953\n",
       "1321  3.658185e-14  2.775558e-16 -0.076670 -0.065593\n",
       "1322  3.264056e-14  1.000000e+00  0.240970  0.114547\n",
       "\n",
       "[1323 rows x 4 columns]"
      ]
     },
     "execution_count": 96,
     "metadata": {},
     "output_type": "execute_result"
    }
   ],
   "source": [
    "pd.DataFrame(x_demean)"
   ]
  },
  {
   "cell_type": "code",
   "execution_count": 109,
   "id": "5df15d0f",
   "metadata": {},
   "outputs": [
    {
     "name": "stdout",
     "output_type": "stream",
     "text": [
      "FE regression\n",
      "Dependent variable: ldsa\n",
      "\n",
      "        Beta      Se    t-values\n",
      "----  ------  ------  ----------\n",
      "lemp  0.6004  0.0282     21.2592\n",
      "lcap  0.0502  0.0312      1.6103\n",
      "R² = 0.284\n",
      "σ² = 0.005\n"
     ]
    }
   ],
   "source": [
    "x_demean_vars = (pd.DataFrame(x_demean[:,2:])).to_numpy()\n",
    "\n",
    "\n",
    "label_x_fe = ['lemp', 'lcap']\n",
    "N = 441\n",
    "fe_result = lm.estimate(y_demean, x_demean_vars, N=N, T=T)\n",
    "label_y = \"ldsa\"\n",
    "# Print results\n",
    "lm.print_table((label_y, label_x_fe), fe_result, title='FE regression', floatfmt='.4f')"
   ]
  },
  {
   "cell_type": "code",
   "execution_count": null,
   "id": "6c94498d-3c3d-4d49-9147-e20e2269e0f1",
   "metadata": {},
   "outputs": [
    {
     "data": {
      "text/html": [
       "<div>\n",
       "<style scoped>\n",
       "    .dataframe tbody tr th:only-of-type {\n",
       "        vertical-align: middle;\n",
       "    }\n",
       "\n",
       "    .dataframe tbody tr th {\n",
       "        vertical-align: top;\n",
       "    }\n",
       "\n",
       "    .dataframe thead th {\n",
       "        text-align: right;\n",
       "    }\n",
       "</style>\n",
       "<table border=\"1\" class=\"dataframe\">\n",
       "  <thead>\n",
       "    <tr style=\"text-align: right;\">\n",
       "      <th></th>\n",
       "      <th>firmid</th>\n",
       "      <th>year</th>\n",
       "      <th>lcap</th>\n",
       "      <th>lemp</th>\n",
       "      <th>ldsa</th>\n",
       "    </tr>\n",
       "  </thead>\n",
       "  <tbody>\n",
       "    <tr>\n",
       "      <th>count</th>\n",
       "      <td>1323.000000</td>\n",
       "      <td>1323.000000</td>\n",
       "      <td>1.323000e+03</td>\n",
       "      <td>1.323000e+03</td>\n",
       "      <td>1.323000e+03</td>\n",
       "    </tr>\n",
       "    <tr>\n",
       "      <th>mean</th>\n",
       "      <td>221.000000</td>\n",
       "      <td>1969.000000</td>\n",
       "      <td>-3.432577e-08</td>\n",
       "      <td>5.291005e-09</td>\n",
       "      <td>3.253968e-08</td>\n",
       "    </tr>\n",
       "    <tr>\n",
       "      <th>std</th>\n",
       "      <td>127.353547</td>\n",
       "      <td>0.816805</td>\n",
       "      <td>1.367661e+00</td>\n",
       "      <td>1.212370e+00</td>\n",
       "      <td>1.238870e+00</td>\n",
       "    </tr>\n",
       "    <tr>\n",
       "      <th>min</th>\n",
       "      <td>1.000000</td>\n",
       "      <td>1968.000000</td>\n",
       "      <td>-3.864950e+00</td>\n",
       "      <td>-3.108660e+00</td>\n",
       "      <td>-3.433130e+00</td>\n",
       "    </tr>\n",
       "    <tr>\n",
       "      <th>25%</th>\n",
       "      <td>111.000000</td>\n",
       "      <td>1968.000000</td>\n",
       "      <td>-9.629080e-01</td>\n",
       "      <td>-8.435585e-01</td>\n",
       "      <td>-9.082370e-01</td>\n",
       "    </tr>\n",
       "    <tr>\n",
       "      <th>50%</th>\n",
       "      <td>221.000000</td>\n",
       "      <td>1969.000000</td>\n",
       "      <td>-1.016350e-01</td>\n",
       "      <td>-1.141760e-01</td>\n",
       "      <td>-1.142770e-01</td>\n",
       "    </tr>\n",
       "    <tr>\n",
       "      <th>75%</th>\n",
       "      <td>331.000000</td>\n",
       "      <td>1970.000000</td>\n",
       "      <td>9.708763e-01</td>\n",
       "      <td>8.067791e-01</td>\n",
       "      <td>8.648864e-01</td>\n",
       "    </tr>\n",
       "    <tr>\n",
       "      <th>max</th>\n",
       "      <td>441.000000</td>\n",
       "      <td>1970.000000</td>\n",
       "      <td>3.993508e+00</td>\n",
       "      <td>3.187258e+00</td>\n",
       "      <td>3.418170e+00</td>\n",
       "    </tr>\n",
       "  </tbody>\n",
       "</table>\n",
       "</div>"
      ],
      "text/plain": [
       "            firmid         year          lcap          lemp          ldsa\n",
       "count  1323.000000  1323.000000  1.323000e+03  1.323000e+03  1.323000e+03\n",
       "mean    221.000000  1969.000000 -3.432577e-08  5.291005e-09  3.253968e-08\n",
       "std     127.353547     0.816805  1.367661e+00  1.212370e+00  1.238870e+00\n",
       "min       1.000000  1968.000000 -3.864950e+00 -3.108660e+00 -3.433130e+00\n",
       "25%     111.000000  1968.000000 -9.629080e-01 -8.435585e-01 -9.082370e-01\n",
       "50%     221.000000  1969.000000 -1.016350e-01 -1.141760e-01 -1.142770e-01\n",
       "75%     331.000000  1970.000000  9.708763e-01  8.067791e-01  8.648864e-01\n",
       "max     441.000000  1970.000000  3.993508e+00  3.187258e+00  3.418170e+00"
      ]
     },
     "execution_count": 10,
     "metadata": {},
     "output_type": "execute_result"
    }
   ],
   "source": [
    "# Descriptive Statistics\n",
    "filtered_df.describe()"
   ]
  },
  {
   "cell_type": "code",
   "execution_count": null,
   "id": "531a5683-916c-4bc0-96f0-f993a6ea7a54",
   "metadata": {},
   "outputs": [
    {
     "data": {
      "image/png": "[encoded data removed]",
      "text/plain": [
       "<Figure size 432x288 with 4 Axes>"
      ]
     },
     "metadata": {
      "needs_background": "light"
     },
     "output_type": "display_data"
    },
    {
     "data": {
      "image/png": "[encoded data removed]",
      "text/plain": [
       "<Figure size 432x288 with 4 Axes>"
      ]
     },
     "metadata": {
      "needs_background": "light"
     },
     "output_type": "display_data"
    }
   ],
   "source": [
    "filtered_df[['lcap', 'lemp', 'ldsa']].hist();\n",
    "dat[['lcap', 'lemp', 'ldsa']].hist();\n"
   ]
  },
  {
   "cell_type": "code",
   "execution_count": null,
   "id": "ccf4a578-7a93-4d42-979d-0501b3ff2334",
   "metadata": {},
   "outputs": [
    {
     "data": {
      "image/png": "[encoded data removed]",
      "text/plain": [
       "<Figure size 432x288 with 1 Axes>"
      ]
     },
     "metadata": {
      "needs_background": "light"
     },
     "output_type": "display_data"
    }
   ],
   "source": [
    "sns.scatterplot(x = 'lemp', y = 'ldsa', data = filtered_df);"
   ]
  },
  {
   "cell_type": "code",
   "execution_count": null,
   "id": "30e1232b-c54c-43b6-83b8-fc5145a0b0d4",
   "metadata": {},
   "outputs": [
    {
     "data": {
      "text/plain": [
       "(1323,)"
      ]
     },
     "execution_count": 15,
     "metadata": {},
     "output_type": "execute_result"
    }
   ],
   "source": [
    "# Convert to numpy format\n",
    "filtered_df.ldsa.values.shape"
   ]
  },
  {
   "cell_type": "code",
   "execution_count": null,
   "id": "a23210f9-f2d3-4656-b6b5-5b83cb8dacb1",
   "metadata": {},
   "outputs": [
    {
     "ename": "NameError",
     "evalue": "name 'filtered_df' is not defined",
     "output_type": "error",
     "traceback": [
      "\u001b[1;31m---------------------------------------------------------------------------\u001b[0m",
      "\u001b[1;31mNameError\u001b[0m                                 Traceback (most recent call last)",
      "\u001b[1;32mc:\\Users\\Asger Nielsen\\AwesomeProject\\Project1\\Project-1.ipynb Cell 8\u001b[0m line \u001b[0;36m<cell line: 1>\u001b[1;34m()\u001b[0m\n\u001b[1;32m----> <a href='vscode-notebook-cell:/c%3A/Users/Asger%20Nielsen/AwesomeProject/Project1/Project-1.ipynb#X10sZmlsZQ%3D%3D?line=0'>1</a>\u001b[0m N \u001b[39m=\u001b[39m filtered_df\u001b[39m.\u001b[39mfirmid\u001b[39m.\u001b[39munique()\u001b[39m.\u001b[39msize\n\u001b[0;32m      <a href='vscode-notebook-cell:/c%3A/Users/Asger%20Nielsen/AwesomeProject/Project1/Project-1.ipynb#X10sZmlsZQ%3D%3D?line=1'>2</a>\u001b[0m T \u001b[39m=\u001b[39m filtered_df\u001b[39m.\u001b[39myear\u001b[39m.\u001b[39munique()\u001b[39m.\u001b[39msize\n\u001b[0;32m      <a href='vscode-notebook-cell:/c%3A/Users/Asger%20Nielsen/AwesomeProject/Project1/Project-1.ipynb#X10sZmlsZQ%3D%3D?line=2'>3</a>\u001b[0m \u001b[39massert\u001b[39;00m filtered_df\u001b[39m.\u001b[39mshape[\u001b[39m0\u001b[39m] \u001b[39m==\u001b[39m N\u001b[39m*\u001b[39mT, \u001b[39mf\u001b[39m\u001b[39m'\u001b[39m\u001b[39mError: data is not a balanced panel\u001b[39m\u001b[39m'\u001b[39m\n",
      "\u001b[1;31mNameError\u001b[0m: name 'filtered_df' is not defined"
     ]
    }
   ],
   "source": [
    "N = filtered_df.firmid.unique().size\n",
    "T = filtered_df.year.unique().size\n",
    "assert filtered_df.shape[0] == N*T, f'Error: data is not a balanced panel'\n",
    "print(f'Data has N={N} and T={T}')"
   ]
  },
  {
   "cell_type": "code",
   "execution_count": null,
   "id": "88d9d0b0-5b85-40fd-8bf6-cb53af475f2f",
   "metadata": {},
   "outputs": [],
   "source": [
    "# Extract data from pandas to numpy arrays\n",
    "y = filtered_df.ldsa.values.reshape((N*T,1))\n",
    "\n",
    "ones = np.ones((N*T,1))\n",
    "l = filtered_df.lemp.values.reshape((N*T,1))\n",
    "k = filtered_df.lcap.values.reshape((N*T,1))\n",
    "X = np.hstack([ones, l, k])"
   ]
  },
  {
   "cell_type": "code",
   "execution_count": null,
   "id": "4fe2497a-c7e8-43c9-919e-77acee7a7457",
   "metadata": {},
   "outputs": [],
   "source": []
  }
 ],
 "metadata": {
  "kernelspec": {
   "display_name": "Python 3 (ipykernel)",
   "language": "python",
   "name": "python3"
  },
  "language_info": {
   "codemirror_mode": {
    "name": "ipython",
    "version": 3
   },
   "file_extension": ".py",
   "mimetype": "text/x-python",
   "name": "python",
   "nbconvert_exporter": "python",
   "pygments_lexer": "ipython3",
   "version": "3.10.2"
  }
 },
 "nbformat": 4,
 "nbformat_minor": 5
}
