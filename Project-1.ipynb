{
 "cells": [
  {
   "cell_type": "markdown",
   "id": "75e947cd-0c69-4b21-b061-29df12c2c798",
   "metadata": {},
   "source": [
    "# Project 1"
   ]
  },
  {
   "cell_type": "code",
   "execution_count": 2,
   "id": "fe938af9-c84d-44b1-8fc9-aa7c854aa485",
   "metadata": {},
   "outputs": [],
   "source": [
    "import pandas as pd \n",
    "import numpy as np\n",
    "import seaborn as sns\n",
    "from numpy import linalg as la\n",
    "from io import StringIO\n",
    "from tabulate import tabulate\n",
    "from matplotlib import pyplot as plt\n",
    "from scipy.stats import chi2\n",
    "import LinearModelsWeek2_ante as lm\n",
    "import statsmodels.api as sm\n",
    "import LinearModelsWeek2_post as lm1\n"
   ]
  },
  {
   "cell_type": "code",
   "execution_count": 3,
   "id": "c291ef86-8d48-4f0b-b10e-25d61d1e1a3c",
   "metadata": {},
   "outputs": [
    {
     "data": {
      "text/plain": [
       "array([1968, 1969, 1970], dtype=int64)"
      ]
     },
     "execution_count": 3,
     "metadata": {},
     "output_type": "execute_result"
    }
   ],
   "source": [
    "# Load data\n",
    "dat = pd.read_csv('firms.csv')\n",
    "desired_years = [1968, 1969, 1970]\n",
    "mask = dat['year'].isin(desired_years)\n",
    "\n",
    "# Use the mask to filter the DataFrame\n",
    "filtered_df = dat[mask]\n",
    "filtered_df.year.unique()\n",
    "#print(filtered_df)\n",
    "\n"
   ]
  },
  {
   "cell_type": "code",
   "execution_count": 4,
   "id": "5749472e",
   "metadata": {},
   "outputs": [
    {
     "name": "stdout",
     "output_type": "stream",
     "text": [
      "Demeaning matrix for T=3 \n",
      " [[ 0.66666667 -0.33333333 -0.33333333]\n",
      " [-0.33333333  0.66666667 -0.33333333]\n",
      " [-0.33333333 -0.33333333  0.66666667]]\n"
     ]
    }
   ],
   "source": [
    "def demeaning_matrix(T):\n",
    "    Q_T = np.identity(T) - (1/T) * np.ones((T,T))\n",
    "    return Q_T\n",
    "\n",
    "T = 3\n",
    "Q_T = demeaning_matrix(T)\n",
    "print(f'Demeaning matrix for T={T} \\n', Q_T)"
   ]
  },
  {
   "cell_type": "code",
   "execution_count": 5,
   "id": "129bf8da",
   "metadata": {},
   "outputs": [],
   "source": [
    "y = filtered_df.ldsa.values\n",
    "xi = []\n",
    "ID = 0\n",
    "\n",
    "\n",
    "for i in range(len(filtered_df)):\n",
    "        if i%3 == 0: \n",
    "            yr = 1\n",
    "        elif i%3 == 2:\n",
    "            yr = 3\n",
    "        else: \n",
    "            yr = 2\n",
    "        if i%3 == 0: \n",
    "            ID = ID+1\n",
    "       \n",
    "        row = [ID, yr, filtered_df.lemp.values[i], filtered_df.lcap.values[i]]\n",
    "        xi.append(row)\n",
    "xi = np.array(xi)\n",
    "\n",
    "#print(\"xi:\")\n",
    "#print(xi.shape)\n",
    "#print(\"y:\")#\n",
    "yi = y.reshape(-1,1)\n",
    "#print(yi.shape)\n",
    "\n",
    "\n",
    "\n",
    "#print(y.T)"
   ]
  },
  {
   "cell_type": "code",
   "execution_count": 6,
   "id": "6aae0e86",
   "metadata": {},
   "outputs": [],
   "source": [
    "y_demean = lm.perm(Q_T,yi,t=T)\n",
    "x_demean = lm.perm(Q_T,xi,t=T)\n",
    "x_demean1 = x_demean[:,2:4]\n",
    "\n",
    "#print (x_demean)\n",
    "#print(x_demean)\n",
    "#print(y_demean)"
   ]
  },
  {
   "cell_type": "code",
   "execution_count": 7,
   "id": "6938c17f",
   "metadata": {},
   "outputs": [
    {
     "name": "stdout",
     "output_type": "stream",
     "text": [
      "Rank of demeaned x: 3\n",
      "Eigenvalues of within-transformed x: [  0. 882.   9.   5.]\n"
     ]
    }
   ],
   "source": [
    "def check_rank(x):\n",
    "    print(f'Rank of demeaned x: {la.matrix_rank(x)}')\n",
    "    lambdas, V = la.eig(x.T@x)\n",
    "    np.set_printoptions(suppress=True)  # This is just to print nicely.\n",
    "    print(f'Eigenvalues of within-transformed x: {lambdas.round(decimals=0)}')\n",
    "\n",
    "# Check rank of demeaned x\n",
    "check_rank(x_demean)"
   ]
  },
  {
   "cell_type": "code",
   "execution_count": 8,
   "id": "ad9db77e",
   "metadata": {},
   "outputs": [],
   "source": [
    "#pd.DataFrame(x_demean)"
   ]
  },
  {
   "cell_type": "code",
   "execution_count": 9,
   "id": "5df15d0f",
   "metadata": {},
   "outputs": [
    {
     "name": "stdout",
     "output_type": "stream",
     "text": [
      "FE regression\n",
      "Dependent variable: ldsa\n",
      "\n",
      "        Beta      Se    t-values\n",
      "----  ------  ------  ----------\n",
      "lemp  0.6004  0.0282     21.2592\n",
      "lcap  0.0502  0.0312      1.6103\n",
      "R² = 0.284\n",
      "σ² = 0.005\n"
     ]
    },
    {
     "name": "stdout",
     "output_type": "stream",
     "text": [
      "\\begin{tabular}{l}\n",
      "\\end{tabular}\n",
      "\n"
     ]
    }
   ],
   "source": [
    "x_demean_vars = (pd.DataFrame(x_demean[:,2:])).to_numpy()\n",
    "\n",
    "\n",
    "label_x_fe = ['lemp', 'lcap']\n",
    "N = 441\n",
    "fe_result = lm.estimate(y_demean, x_demean_vars, N=N, T=T)\n",
    "label_y = \"ldsa\"\n",
    "# Print results\n",
    "a = lm.print_table((label_y, label_x_fe), fe_result, title='FE regression', floatfmt='.4f')\n",
    "b = pd.DataFrame(a)\n",
    "\n",
    "print(b.style.to_latex())"
   ]
  },
  {
   "cell_type": "code",
   "execution_count": 10,
   "id": "bd2e9aa2",
   "metadata": {},
   "outputs": [
    {
     "name": "stdout",
     "output_type": "stream",
     "text": [
      "Null Hypothesis: Coefficients of 'lemp' and 'lcap' are jointly equal to 1.\n",
      "Wald Statistic: 1535.636574184482\n",
      "Critical Value: 5.991464547107979\n",
      "P-Value: 0.0\n",
      "Result: Reject the null hypothesis\n"
     ]
    }
   ],
   "source": [
    "null_hypothesis = \"Coefficients of 'lemp' and 'lcap' are jointly equal to 1.\"\n",
    "beta_hat = fe_result['b_hat']\n",
    "beta_hat = beta_hat.reshape(-1, 1)\n",
    "num_restrictions = 2\n",
    "V_hat = fe_result['cov']\n",
    "wald_statistic = float((beta_hat - 1).T @ np.linalg.inv(V_hat) @ (beta_hat - 1))\n",
    "alpha = 0.05  # Significance level\n",
    "critical_value = chi2.ppf(1 - alpha, df=num_restrictions)\n",
    "p_value = 1 - chi2.cdf(wald_statistic, df=num_restrictions)\n",
    "if wald_statistic > critical_value:\n",
    "    result = \"Reject the null hypothesis\"\n",
    "else:\n",
    "    result = \"Fail to reject the null hypothesis\"\n",
    "\n",
    "# Print the results.\n",
    "print(\"Null Hypothesis:\", null_hypothesis)\n",
    "print(\"Wald Statistic:\", wald_statistic)\n",
    "print(\"Critical Value:\", critical_value)\n",
    "print(\"P-Value:\", p_value)\n",
    "print(\"Result:\", result)\n",
    "\n",
    "\n",
    "\n"
   ]
  },
  {
   "cell_type": "code",
   "execution_count": 33,
   "id": "e1778098",
   "metadata": {},
   "outputs": [
    {
     "name": "stdout",
     "output_type": "stream",
     "text": [
      "0.9879283282975101\n",
      "Fail to reject the null hypothesis: Error term is strictly exogenous.\n"
     ]
    }
   ],
   "source": [
    "\n",
    "\n",
    "X = sm.add_constant(x_demean_vars)\n",
    "model = sm.OLS(y, X).fit()\n",
    "residuals = model.resid\n",
    "test_result = sm.stats.diagnostic.het_breuschpagan(residuals, X)\n",
    "p_value = test_result[1]\n",
    "alpha = 0.05\n",
    "print(p_value)\n",
    "if p_value < alpha:\n",
    "    print(\"Reject the null hypothesis: Error term is not strictly exogenous.\")\n",
    "else:\n",
    "    print(\"Fail to reject the null hypothesis: Error term is strictly exogenous.\")"
   ]
  },
  {
   "cell_type": "code",
   "execution_count": 20,
   "id": "6e645d60",
   "metadata": {},
   "outputs": [],
   "source": [
    "def serial_corr(y, x, T):\n",
    "    b_hat = lm1.est_ols(y, x)\n",
    "    e = y - x@b_hat\n",
    "    L_T = np.eye(T, k=-1)\n",
    "    L_T = L_T[1:]\n",
    "    e_l = lm.perm(L_T, e)\n",
    "    I_T = np.eye(T, k=0)\n",
    "    I_T = I_T[1:]\n",
    "    e = lm.perm(I_T, e)\n",
    "    return lm.estimate(e, e_l,N=N,T=T-1)\n",
    "\n"
   ]
  },
  {
   "cell_type": "code",
   "execution_count": 21,
   "id": "fb76cd6a",
   "metadata": {},
   "outputs": [
    {
     "name": "stdout",
     "output_type": "stream",
     "text": [
      "Serial Correlation\n",
      "Dependent variable: OLS residual, eᵢₜ\n",
      "\n",
      "          Beta      Se    t-values\n",
      "-----  -------  ------  ----------\n",
      "eᵢₜ₋₁  -0.3638  0.0318    -11.4285\n",
      "R² = 0.129\n",
      "σ² = 0.004\n"
     ]
    }
   ],
   "source": [
    "corr_result = serial_corr(y_demean, x_demean, T)\n",
    "\n",
    "# Print results\n",
    "label_ye = 'OLS residual, e\\u1d62\\u209c'\n",
    "label_e = ['e\\u1d62\\u209c\\u208B\\u2081']\n",
    "lm.print_table(\n",
    "    (label_ye, label_e), corr_result, \n",
    "    title='Serial Correlation', floatfmt='.4f'\n",
    ")\n"
   ]
  },
  {
   "cell_type": "code",
   "execution_count": 31,
   "id": "50026ace",
   "metadata": {},
   "outputs": [
    {
     "name": "stdout",
     "output_type": "stream",
     "text": [
      "With a critical value of 5.9915, and a Wald statistic of 256345089501154634735688876032 \n",
      "We have a p-value of 0.0000\n"
     ]
    }
   ],
   "source": [
    "Xnull_hypothesis = \"Coefficients of 'lemp' and 'lcap' are jointly equal to 1.\"\n",
    "u_hat = y_demean-x_demean_vars@beta_hat\n",
    "sandwich_brød = (np.linalg.inv(x_demean_vars.T@x_demean_vars))\n",
    "sandwich_kød = (np.sum(x_demean_vars.T@u_hat@u_hat.T@x_demean_vars))\n",
    "var_robust = sandwich_brød*sandwich_kød*sandwich_brød\n",
    "R_vec = np.array([1,1]).reshape(1,-1)   \n",
    "r = 1\n",
    "førsteled = R_vec@beta_hat-r\n",
    "andetled = np.linalg.inv(R_vec@var_robust@R_vec.T)\n",
    "wald_statistic = float(førsteled@andetled@førsteled.T)\n",
    "#print(beta_hat)\n",
    "##print('{:.4f}'.format(wald_statistic))\n",
    "alpha = 0.05  # Significance level\n",
    "critical_value = chi2.ppf(1 - alpha, df=num_restrictions)\n",
    "#print(critical_value)\n",
    "p_value = 1 - chi2.cdf(wald_statistic, df=num_restrictions)\n",
    "print(f'With a critical value of {critical_value:.4f}, and a Wald statistic of {round(wald_statistic)} \\nWe have a p-value of {p_value:.4f}')\n"
   ]
  }
 ],
 "metadata": {
  "kernelspec": {
   "display_name": "Python 3 (ipykernel)",
   "language": "python",
   "name": "python3"
  },
  "language_info": {
   "codemirror_mode": {
    "name": "ipython",
    "version": 3
   },
   "file_extension": ".py",
   "mimetype": "text/x-python",
   "name": "python",
   "nbconvert_exporter": "python",
   "pygments_lexer": "ipython3",
   "version": "3.10.2"
  }
 },
 "nbformat": 4,
 "nbformat_minor": 5
}
